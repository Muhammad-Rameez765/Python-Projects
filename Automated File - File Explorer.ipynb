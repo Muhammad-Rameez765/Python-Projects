{
 "cells": [
  {
   "cell_type": "markdown",
   "id": "35be91db-c022-458a-b4dc-a6a231f2cff9",
   "metadata": {},
   "source": [
    "**Automated File Sorter in File Explorer**"
   ]
  },
  {
   "cell_type": "code",
   "execution_count": 19,
   "id": "822751ca-ecd3-4e9f-84ce-99b040bb9488",
   "metadata": {},
   "outputs": [],
   "source": [
    "import os\n",
    "import shutil"
   ]
  },
  {
   "cell_type": "code",
   "execution_count": 21,
   "id": "6aac3503-00ed-40e2-a662-41c830324475",
   "metadata": {},
   "outputs": [],
   "source": [
    "path = \"D:\\\\3D Objects\\\\File Sorter in File Explorer using Python\\\\\"\n",
    "folder_names = ['csv files', 'image files', 'pdf files']\n"
   ]
  },
  {
   "cell_type": "code",
   "execution_count": 23,
   "id": "eb9f9b5d-9030-45dd-bfac-b4cb1bddc6b5",
   "metadata": {},
   "outputs": [],
   "source": [
    "# Ensure the folders exist\n",
    "for folder in folder_names:\n",
    "    if not os.path.exists(path + folder):\n",
    "        os.makedirs(path + folder)"
   ]
  },
  {
   "cell_type": "code",
   "execution_count": 25,
   "id": "580c7772-4794-439a-aea5-b7e3e63832e5",
   "metadata": {},
   "outputs": [],
   "source": [
    "\n",
    "# Get all files in the path\n",
    "file_name = os.listdir(path)"
   ]
  },
  {
   "cell_type": "code",
   "execution_count": 15,
   "id": "0bc8dcee-c2ba-4eea-9d90-b898da616242",
   "metadata": {},
   "outputs": [],
   "source": [
    "# Move files to respective folders\n",
    "for file in file_name:\n",
    "    if file.endswith(\".csv\") and not os.path.exists(path + \"csv files\\\\\" + file):\n",
    "        shutil.move(path + file, path + \"csv files\\\\\" + file)\n",
    "    elif file.endswith(\".png\") and not os.path.exists(path + \"image files\\\\\" + file):\n",
    "        shutil.move(path + file, path + \"image files\\\\\" + file)\n",
    "    elif file.endswith(\".pdf\") and not os.path.exists(path + \"pdf files\\\\\" + file):\n",
    "        shutil.move(path + file, path + \"pdf files\\\\\" + file)"
   ]
  },
  {
   "cell_type": "code",
   "execution_count": null,
   "id": "36ced123-0673-4ab0-9f70-b58ecdc45f86",
   "metadata": {},
   "outputs": [],
   "source": [
    "# It's All Combined form Here \n",
    "\n",
    "import os\n",
    "import shutil\n",
    "\n",
    "path = \"D:\\\\3D Objects\\\\File Sorter in File Explorer using Python\\\\\"\n",
    "folder_names = ['csv files', 'image files', 'pdf files']\n",
    "\n",
    "# Ensure the folders exist\n",
    "for folder in folder_names:\n",
    "    if not os.path.exists(path + folder):\n",
    "        os.makedirs(path + folder)\n",
    "\n",
    "# Get all files in the path\n",
    "file_name = os.listdir(path)\n",
    "\n",
    "# Move files to respective folders\n",
    "for file in file_name:\n",
    "    if file.endswith(\".csv\") and not os.path.exists(path + \"csv files\\\\\" + file):\n",
    "        shutil.move(path + file, path + \"csv files\\\\\" + file)\n",
    "    elif file.endswith(\".png\") and not os.path.exists(path + \"image files\\\\\" + file):\n",
    "        shutil.move(path + file, path + \"image files\\\\\" + file)\n",
    "    elif file.endswith(\".pdf\") and not os.path.exists(path + \"pdf files\\\\\" + file):\n",
    "        shutil.move(path + file, path + \"pdf files\\\\\" + file)"
   ]
  },
  {
   "cell_type": "code",
   "execution_count": null,
   "id": "0cdbbacc-112e-42fd-b67d-9a123c239fd3",
   "metadata": {},
   "outputs": [],
   "source": []
  }
 ],
 "metadata": {
  "kernelspec": {
   "display_name": "Python [conda env:base] *",
   "language": "python",
   "name": "conda-base-py"
  },
  "language_info": {
   "codemirror_mode": {
    "name": "ipython",
    "version": 3
   },
   "file_extension": ".py",
   "mimetype": "text/x-python",
   "name": "python",
   "nbconvert_exporter": "python",
   "pygments_lexer": "ipython3",
   "version": "3.12.7"
  }
 },
 "nbformat": 4,
 "nbformat_minor": 5
}
